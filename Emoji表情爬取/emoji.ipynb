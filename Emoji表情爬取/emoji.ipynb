{
 "cells": [
  {
   "cell_type": "code",
   "id": "initial_id",
   "metadata": {
    "collapsed": true,
    "ExecuteTime": {
     "end_time": "2024-11-01T05:26:27.150548Z",
     "start_time": "2024-11-01T05:26:27.137663Z"
    }
   },
   "source": [
    "from bs4 import BeautifulSoup\n",
    "import requests\n",
    "from fake_useragent import UserAgent\n"
   ],
   "outputs": [],
   "execution_count": 2
  },
  {
   "metadata": {
    "ExecuteTime": {
     "end_time": "2024-11-01T05:31:13.158949Z",
     "start_time": "2024-11-01T05:31:12.782514Z"
    }
   },
   "cell_type": "code",
   "source": [
    "url = 'https://emoji8.com/zh-hans/'\n",
    "headers = {\n",
    "    'User-Agent': UserAgent().random\n",
    "}\n",
    "response = requests.get(url, headers=headers)\n",
    "response.encoding = 'utf-8'\n",
    "html_content = response.text\n",
    "soup = BeautifulSoup(html_content, 'html.parser')\n"
   ],
   "id": "a6566493935ebdf7",
   "outputs": [],
   "execution_count": 10
  },
  {
   "metadata": {
    "ExecuteTime": {
     "end_time": "2024-11-01T05:44:46.457710Z",
     "start_time": "2024-11-01T05:44:46.442179Z"
    }
   },
   "cell_type": "code",
   "source": [
    "emoji = soup.select('.content > ul  ')\n",
    "a_emoji = emoji[0].select('li > a')\n",
    "# 提取每个 a 标签的 href 内容\n",
    "hrefs = [a['href'] for a in a_emoji]\n",
    "\n",
    "# 打印提取的 href 内容\n",
    "for href in hrefs:\n",
    "    print(href)\n"
   ],
   "id": "a635691d666dca94",
   "outputs": [
    {
     "name": "stdout",
     "output_type": "stream",
     "text": [
      "/zh-hans/smileys-emotion/\n",
      "/zh-hans/people-body/\n",
      "/zh-hans/animals-nature/\n",
      "/zh-hans/food-drink/\n",
      "/zh-hans/travel-places/\n",
      "/zh-hans/activities/\n",
      "/zh-hans/objects/\n",
      "/zh-hans/symbols/\n",
      "/zh-hans/flags/\n"
     ]
    }
   ],
   "execution_count": 28
  },
  {
   "metadata": {
    "ExecuteTime": {
     "end_time": "2024-11-01T05:54:07.503890Z",
     "start_time": "2024-11-01T05:54:07.355931Z"
    }
   },
   "cell_type": "code",
   "source": [
    "url = 'https://emoji8.com' + '/zh-hans/smileys-emotion/'\n",
    "resq = requests.get(url, headers=headers)\n",
    "resq.encoding = 'utf-8'\n",
    "html = resq.text\n",
    "soup = BeautifulSoup(html, 'html.parser')\n",
    "content = soup.select('.content > section > ul')\n",
    "span_elements = soup.find_all('span', class_='emoji')\n",
    "emojis = [span.text for span in span_elements]\n",
    "print(emojis)\n",
    "#emojiiii = content[1].select('span.emoji')\n",
    "#print(emojiiii)"
   ],
   "id": "6d0add257c224a8a",
   "outputs": [
    {
     "name": "stdout",
     "output_type": "stream",
     "text": [
      "['😘', '👌', '🌺', '🍓', '🌍', '🏀', '👑', '♻', '🚩', '😀', '😃', '😄', '😁', '😆', '😅', '🤣', '😂', '🙂', '🙃', '🫠', '😉', '😊', '😇', '🥰', '😍', '🤩', '😘', '😗', '☺', '😚', '😙', '🥲', '😋', '😛', '😜', '🤪', '😝', '🤑', '🤗', '🤭', '🫢', '🫣', '🤫', '🤔', '🫡', '🤐', '🤨', '😐', '😑', '😶', '🫥', '😶\\u200d🌫️', '😏', '😒', '🙄', '😬', '😮\\u200d💨', '🤥', '😌', '😔', '😪', '🤤', '😴', '😷', '🤒', '🤕', '🤢', '🤮', '🤧', '🥵', '🥶', '🥴', '😵', '😵\\u200d💫', '🤯', '🤠', '🥳', '🥸', '😎', '🤓', '🧐', '😕', '🫤', '😟', '🙁', '☹', '😮', '😯', '😲', '😳', '🥺', '🥹', '😦', '😧', '😨', '😰', '😥', '😢', '😤', '😡', '😠', '🤬', '😈', '👿', '💀', '☠', '💩', '🤡', '👹', '👺', '👻', '👽', '👾', '🤖', '😺', '😸', '😹', '😻', '😼', '😽', '🙀', '😿', '😾', '🙈', '🙉', '🙊', '💋', '💌', '💘', '💝', '💖', '💗', '💓', '💞', '💕', '💟', '❣', '💔', '❤️\\u200d🔥', '❤️\\u200d🩹', '❤', '🧡', '💛']\n"
     ]
    }
   ],
   "execution_count": 33
  },
  {
   "metadata": {
    "ExecuteTime": {
     "end_time": "2024-11-01T05:56:56.951245Z",
     "start_time": "2024-11-01T05:56:55.241624Z"
    }
   },
   "cell_type": "code",
   "source": [
    "with open('./emoji.txt', 'w', encoding='utf-8') as f:\n",
    "    for href in hrefs:\n",
    "        url = 'https://emoji8.com' + href\n",
    "        resq = requests.get(url, headers=headers)\n",
    "        resq.encoding = 'utf-8'\n",
    "        html = resq.text\n",
    "        soup = BeautifulSoup(html, 'html.parser')\n",
    "        content = soup.select('.content > section > ul')\n",
    "        span_elements = soup.find_all('span', class_='emoji')\n",
    "        emojis = [span.text for span in span_elements]\n",
    "        for emoji in emojis:\n",
    "            f.write(emoji)\n",
    "        f.write('\\n')\n",
    "            "
   ],
   "id": "937c407e682e8c67",
   "outputs": [],
   "execution_count": 34
  }
 ],
 "metadata": {
  "kernelspec": {
   "display_name": "Python 3",
   "language": "python",
   "name": "python3"
  },
  "language_info": {
   "codemirror_mode": {
    "name": "ipython",
    "version": 2
   },
   "file_extension": ".py",
   "mimetype": "text/x-python",
   "name": "python",
   "nbconvert_exporter": "python",
   "pygments_lexer": "ipython2",
   "version": "2.7.6"
  }
 },
 "nbformat": 4,
 "nbformat_minor": 5
}
