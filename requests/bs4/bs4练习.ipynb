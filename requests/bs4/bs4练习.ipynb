{
 "cells": [
  {
   "cell_type": "code",
   "id": "initial_id",
   "metadata": {
    "collapsed": true,
    "ExecuteTime": {
     "end_time": "2024-10-31T08:50:48.809820Z",
     "start_time": "2024-10-31T08:50:48.728249Z"
    }
   },
   "source": "from bs4 import BeautifulSoup",
   "outputs": [],
   "execution_count": 1
  },
  {
   "metadata": {
    "ExecuteTime": {
     "end_time": "2024-10-31T08:51:54.616731Z",
     "start_time": "2024-10-31T08:51:54.613295Z"
    }
   },
   "cell_type": "code",
   "source": [
    "fp = open('test.html','r',encoding='utf-8')\n",
    "soup = BeautifulSoup(fp,'html.parser')"
   ],
   "id": "129d8d972c903020",
   "outputs": [],
   "execution_count": 3
  },
  {
   "metadata": {
    "ExecuteTime": {
     "end_time": "2024-10-31T08:52:51.271685Z",
     "start_time": "2024-10-31T08:52:51.268140Z"
    }
   },
   "cell_type": "code",
   "source": "print(soup.find('p'))",
   "id": "b22f6ed2a8f1be8c",
   "outputs": [
    {
     "name": "stdout",
     "output_type": "stream",
     "text": [
      "<p>百里守约</p>\n"
     ]
    }
   ],
   "execution_count": 6
  },
  {
   "metadata": {
    "ExecuteTime": {
     "end_time": "2024-10-31T08:52:22.176857Z",
     "start_time": "2024-10-31T08:52:22.171122Z"
    }
   },
   "cell_type": "code",
   "source": "print(soup.findAll('div'))",
   "id": "dce78ef94169be56",
   "outputs": [
    {
     "name": "stdout",
     "output_type": "stream",
     "text": [
      "[<div>\n",
      "<p>百里守约</p>\n",
      "</div>, <div class=\"song\">\n",
      "<p>李清照</p>\n",
      "<p>王安石</p>\n",
      "<p>苏轼</p>\n",
      "<p>柳宗元</p>\n",
      "<a href=\"https://www.song.com/\" target=\"_self\" title=\"赵匡胤\">\n",
      "<span>this is span</span>\n",
      "            宋朝是最强大的王朝，不是军队的强大，而是经济很强大，国民都很有钱\n",
      "        </a>\n",
      "<a class=\"du\" href=\"\">总为浮云能避日，长安不见使人愁</a>\n",
      "<img alt=\"\" src=\"https://www.baidu.com/meinv.jpg\"/>\n",
      "</div>, <div class=\"tang\">\n",
      "<ul>\n",
      "<li><a href=\"https://www.baidu.com\" title=\"qing\">清明时节雨纷纷，路上行人欲断魂</a> </li>\n",
      "<li><a href=\"https://www.163.com\" title=\"qin\">秦时明月</a> </li>\n",
      "<li><a class=\"du\" href=\"https://www.sina.com\">杜甫</a> </li>\n",
      "<li><a class=\"du\" href=\"https://www.dudu.com\">杜牧</a> </li>\n",
      "<li><b>杜小咪</b></li>\n",
      "<li><i>度蜜月</i></li>\n",
      "<li><a href=\"https://www.shu.edu.cn\" id=\"feng\">凤凰台上凤凰游，风趣太空江自流</a> </li>\n",
      "</ul>\n",
      "</div>]\n"
     ]
    }
   ],
   "execution_count": 5
  },
  {
   "metadata": {
    "ExecuteTime": {
     "end_time": "2024-10-31T08:53:23.354365Z",
     "start_time": "2024-10-31T08:53:23.350502Z"
    }
   },
   "cell_type": "code",
   "source": "print(soup.find('div',class_='tang'))",
   "id": "d98f98de0bce01f5",
   "outputs": [
    {
     "name": "stdout",
     "output_type": "stream",
     "text": [
      "<div class=\"tang\">\n",
      "<ul>\n",
      "<li><a href=\"https://www.baidu.com\" title=\"qing\">清明时节雨纷纷，路上行人欲断魂</a> </li>\n",
      "<li><a href=\"https://www.163.com\" title=\"qin\">秦时明月</a> </li>\n",
      "<li><a class=\"du\" href=\"https://www.sina.com\">杜甫</a> </li>\n",
      "<li><a class=\"du\" href=\"https://www.dudu.com\">杜牧</a> </li>\n",
      "<li><b>杜小咪</b></li>\n",
      "<li><i>度蜜月</i></li>\n",
      "<li><a href=\"https://www.shu.edu.cn\" id=\"feng\">凤凰台上凤凰游，风趣太空江自流</a> </li>\n",
      "</ul>\n",
      "</div>\n"
     ]
    }
   ],
   "execution_count": 7
  },
  {
   "metadata": {
    "ExecuteTime": {
     "end_time": "2024-10-31T08:54:12.611326Z",
     "start_time": "2024-10-31T08:54:12.607683Z"
    }
   },
   "cell_type": "code",
   "source": "print(soup.select('.tang > ul > li > a')[1])",
   "id": "7dce6559002166f0",
   "outputs": [
    {
     "name": "stdout",
     "output_type": "stream",
     "text": [
      "<a href=\"https://www.163.com\" title=\"qin\">秦时明月</a>\n"
     ]
    }
   ],
   "execution_count": 9
  },
  {
   "metadata": {
    "ExecuteTime": {
     "end_time": "2024-10-31T08:54:22.200544Z",
     "start_time": "2024-10-31T08:54:22.196750Z"
    }
   },
   "cell_type": "code",
   "source": "print(soup.select('.tang > ul > li > a')[1].get_text())",
   "id": "d9b0d0be4b15e195",
   "outputs": [
    {
     "name": "stdout",
     "output_type": "stream",
     "text": [
      "秦时明月\n"
     ]
    }
   ],
   "execution_count": 10
  },
  {
   "metadata": {
    "ExecuteTime": {
     "end_time": "2024-10-31T08:54:36.414163Z",
     "start_time": "2024-10-31T08:54:36.410556Z"
    }
   },
   "cell_type": "code",
   "source": "print(soup.select('.tang > ul > li > a')[1].get('href'))",
   "id": "37371c398f13c90c",
   "outputs": [
    {
     "name": "stdout",
     "output_type": "stream",
     "text": [
      "https://www.163.com\n"
     ]
    }
   ],
   "execution_count": 11
  },
  {
   "metadata": {
    "ExecuteTime": {
     "end_time": "2024-10-31T08:54:44.903401Z",
     "start_time": "2024-10-31T08:54:44.899608Z"
    }
   },
   "cell_type": "code",
   "source": "print(soup.select('.tang > ul > li > a')[1]['href'])",
   "id": "f5840a335f246461",
   "outputs": [
    {
     "name": "stdout",
     "output_type": "stream",
     "text": [
      "https://www.163.com\n"
     ]
    }
   ],
   "execution_count": 12
  },
  {
   "metadata": {
    "ExecuteTime": {
     "end_time": "2024-10-31T08:54:58.075649Z",
     "start_time": "2024-10-31T08:54:58.071647Z"
    }
   },
   "cell_type": "code",
   "source": "print(soup.select('.tang > ul > li > a')[1].attrs['href'])",
   "id": "eb03e5dea23f440f",
   "outputs": [
    {
     "name": "stdout",
     "output_type": "stream",
     "text": [
      "https://www.163.com\n"
     ]
    }
   ],
   "execution_count": 13
  },
  {
   "metadata": {
    "ExecuteTime": {
     "end_time": "2024-10-31T08:55:12.111823Z",
     "start_time": "2024-10-31T08:55:12.106345Z"
    }
   },
   "cell_type": "code",
   "source": "print(soup.select('.tang > ul > li > a')[1].get('title'))",
   "id": "9f9f852578848b55",
   "outputs": [
    {
     "name": "stdout",
     "output_type": "stream",
     "text": [
      "qin\n"
     ]
    }
   ],
   "execution_count": 14
  }
 ],
 "metadata": {
  "kernelspec": {
   "display_name": "Python 3",
   "language": "python",
   "name": "python3"
  },
  "language_info": {
   "codemirror_mode": {
    "name": "ipython",
    "version": 2
   },
   "file_extension": ".py",
   "mimetype": "text/x-python",
   "name": "python",
   "nbconvert_exporter": "python",
   "pygments_lexer": "ipython2",
   "version": "2.7.6"
  }
 },
 "nbformat": 4,
 "nbformat_minor": 5
}
