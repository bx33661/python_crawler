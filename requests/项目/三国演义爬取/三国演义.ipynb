{
 "cells": [
  {
   "cell_type": "code",
   "id": "initial_id",
   "metadata": {
    "collapsed": true,
    "ExecuteTime": {
     "end_time": "2024-10-31T08:42:52.601889Z",
     "start_time": "2024-10-31T08:42:52.598095Z"
    }
   },
   "source": [
    "from bs4 import BeautifulSoup\n",
    "import requests\n",
    "import re\n",
    "from fakeUA import UserAgent\n",
    "import urllib3 # 禁用安全请求警告,当目标使用htpps时使用\n",
    "urllib3.disable_warnings(urllib3.exceptions.InsecureRequestWarning)\n"
   ],
   "outputs": [],
   "execution_count": 31
  },
  {
   "metadata": {
    "ExecuteTime": {
     "end_time": "2024-10-31T08:42:55.205278Z",
     "start_time": "2024-10-31T08:42:53.995170Z"
    }
   },
   "cell_type": "code",
   "source": [
    "url = \"https://www.shicimingju.com/book/sanguoyanyi.html\"\n",
    "ua = UserAgent()\n",
    "random_user_agent = ua.random\n",
    "headers = {\n",
    "    \"User-Agent\": random_user_agent\n",
    "}\n",
    "response = requests.get(url, headers=headers)\n",
    "response.encoding = \"utf-8\"\n",
    "html = response.text\n",
    "soup = BeautifulSoup(html, \"lxml\")"
   ],
   "id": "72ead93ebf9137f",
   "outputs": [],
   "execution_count": 32
  },
  {
   "metadata": {
    "ExecuteTime": {
     "end_time": "2024-10-31T08:42:56.226445Z",
     "start_time": "2024-10-31T08:42:56.221892Z"
    }
   },
   "cell_type": "code",
   "source": [
    "demo = soup.select(\".list > .tabli \")\n",
    "li_list = []\n",
    "li_text = []\n",
    "for li in demo:\n",
    "    li_list.append(li.get('href'))\n",
    "    li_text.append(li.text)"
   ],
   "id": "ba9f82895fd1cb57",
   "outputs": [],
   "execution_count": 33
  },
  {
   "metadata": {
    "ExecuteTime": {
     "end_time": "2024-10-31T08:47:00.948333Z",
     "start_time": "2024-10-31T08:43:35.304741Z"
    }
   },
   "cell_type": "code",
   "source": [
    "with open('./三国演义.txt', 'w', encoding='utf-8') as f:\n",
    "    for li in demo:\n",
    "        title = li.text\n",
    "        href = li.get('href')\n",
    "        new_url = \"https://www.shicimingju.com/\" + href  # 使用 base_url 和 href 拼接成完整的 URL\n",
    "        page_content = requests.get(new_url, headers=headers, verify=False)  # 忽略 SSL 证书验证\n",
    "        page_content.encoding = \"utf-8\"\n",
    "        page_soup = BeautifulSoup(page_content.text, \"lxml\")\n",
    "        content = page_soup.select(\".text p_pad > p\")\n",
    "        f.write(title)\n",
    "        f.write('\\n')\n",
    "        for p in content:\n",
    "            f.write(p.text)\n",
    "            f.write('\\n')"
   ],
   "id": "b1506669b7e9a102",
   "outputs": [],
   "execution_count": 35
  },
  {
   "metadata": {},
   "cell_type": "code",
   "outputs": [],
   "execution_count": null,
   "source": "print('done')        ",
   "id": "bb2a0fe8589206e1"
  }
 ],
 "metadata": {
  "kernelspec": {
   "display_name": "Python 3",
   "language": "python",
   "name": "python3"
  },
  "language_info": {
   "codemirror_mode": {
    "name": "ipython",
    "version": 2
   },
   "file_extension": ".py",
   "mimetype": "text/x-python",
   "name": "python",
   "nbconvert_exporter": "python",
   "pygments_lexer": "ipython2",
   "version": "2.7.6"
  }
 },
 "nbformat": 4,
 "nbformat_minor": 5
}
